{
 "cells": [
  {
   "cell_type": "markdown",
   "metadata": {},
   "source": [
    "# Introduction\n",
    "This notebook focuses on classifying data from the [GECCO 2017 competition](http://www.spotseven.de/gecco/gecco-challenge/gecco-challenge-2017/) ([Rules](https://notebooks.azure.com/n/UxScBeYo9pM/files/rulesGeccoIc2017.pdf))\n",
    "\n",
    "---"
   ]
  },
  {
   "cell_type": "markdown",
   "metadata": {},
   "source": [
    "# Code\n",
    "## Import packages/modules\n",
    "Some packages/modules are necessary for loading and visualising the data.\n",
    "- **pandas:** load CVS file;\n",
    "- **matplotlib.pyplot:** plot data;\n",
    "- **numpy:** array manipulation."
   ]
  },
  {
   "cell_type": "code",
   "execution_count": 20,
   "metadata": {
    "collapsed": true
   },
   "outputs": [],
   "source": [
    "import pandas as pd\n",
    "import matplotlib.pyplot as plt\n",
    "import numpy as np"
   ]
  },
  {
   "cell_type": "markdown",
   "metadata": {},
   "source": [
    "## Load Training Data\n",
    "Data is loaded using the *read_csv* function from **pandas** package. After that, we convert incorrect data types.\n",
    "\n",
    "**Obs:** This step is better covered at **[01 - load and view](https://notebooks.azure.com/n/vGEm8hmoKOg/notebooks/01%20-%20load%20and%20view.ipynb)**."
   ]
  },
  {
   "cell_type": "code",
   "execution_count": 21,
   "metadata": {
    "collapsed": true
   },
   "outputs": [],
   "source": [
    "# Load data\n",
    "train_data = pd.read_csv('waterDataTraining.csv', delimiter=',')"
   ]
  },
  {
   "cell_type": "code",
   "execution_count": 22,
   "metadata": {
    "collapsed": true
   },
   "outputs": [],
   "source": [
    "# Convert first column to Date-Time\n",
    "train_data['Time'] = train_data[\"Time\"].apply(pd.to_datetime)"
   ]
  },
  {
   "cell_type": "code",
   "execution_count": 23,
   "metadata": {
    "collapsed": true
   },
   "outputs": [],
   "source": [
    "# Convert last column to Boolean\n",
    "train_data[\"Event (boolean)\"] = train_data[\"Event (boolean)\"] == \" TRUE\""
   ]
  },
  {
   "cell_type": "markdown",
   "metadata": {},
   "source": [
    "## Prepare Training Data\n",
    "Convert data to arrays"
   ]
  },
  {
   "cell_type": "code",
   "execution_count": 25,
   "metadata": {},
   "outputs": [],
   "source": [
    "# Impute data with mean\n",
    "train_data[\"Chlorine dioxide (mg/L)\"].fillna(train_data[\"Chlorine dioxide (mg/L)\"].mean(), inplace=True)\n",
    "train_data[\"PH value\"].fillna(train_data[\"PH value\"].mean(), inplace=True)\n",
    "train_data[\"Redox potential (mV)\"].fillna(train_data[\"Redox potential (mV)\"].mean(), inplace=True)"
   ]
  },
  {
   "cell_type": "code",
   "execution_count": 26,
   "metadata": {
    "collapsed": true
   },
   "outputs": [],
   "source": [
    "# Create input array\n",
    "X1 = np.array(train_data['Chlorine dioxide (mg/L)'])\n",
    "X2 = np.array(train_data['PH value'])\n",
    "X3 = np.array(train_data['Redox potential (mV)'])"
   ]
  },
  {
   "cell_type": "code",
   "execution_count": 27,
   "metadata": {
    "collapsed": true
   },
   "outputs": [],
   "source": [
    "# Normalize data to [0, 1]\n",
    "X1 = (X1 - X1.min())/(X1.max() - X1.min())\n",
    "X2 = (X2 - X2.min())/(X2.max() - X2.min())\n",
    "X3 = (X3 - X3.min())/(X3.max() - X3.min())"
   ]
  },
  {
   "cell_type": "code",
   "execution_count": 28,
   "metadata": {
    "collapsed": true
   },
   "outputs": [],
   "source": [
    "# Create input 2D array\n",
    "X_train = np.array([X1, X2, X3]).T\n",
    "\n",
    "# Create output array\n",
    "Y_train = np.array(train_data['Event (boolean)'])"
   ]
  },
  {
   "cell_type": "markdown",
   "metadata": {},
   "source": [
    "## Load Test Data"
   ]
  },
  {
   "cell_type": "code",
   "execution_count": 29,
   "metadata": {},
   "outputs": [
    {
     "name": "stderr",
     "output_type": "stream",
     "text": [
      "/home/nbuser/anaconda3_431/lib/python3.6/site-packages/IPython/core/interactiveshell.py:2698: DtypeWarning: Columns (3,4,5,12,13,14,15) have mixed types. Specify dtype option on import or set low_memory=False.\n",
      "  interactivity=interactivity, compiler=compiler, result=result)\n"
     ]
    }
   ],
   "source": [
    "# Load data\n",
    "test_data = pd.read_csv('waterDataTesting.csv', delimiter=',')"
   ]
  },
  {
   "cell_type": "code",
   "execution_count": 30,
   "metadata": {
    "collapsed": true
   },
   "outputs": [],
   "source": [
    "# Convert first column to Date-Time\n",
    "test_data['Time'] = test_data[\"Time\"].apply(pd.to_datetime)"
   ]
  },
  {
   "cell_type": "code",
   "execution_count": 31,
   "metadata": {
    "collapsed": true
   },
   "outputs": [],
   "source": [
    "# Convert fourth column to float64\n",
    "test_data['PH value'] = test_data[\"PH value\"].apply(pd.to_numeric, errors='coerce')"
   ]
  },
  {
   "cell_type": "code",
   "execution_count": 32,
   "metadata": {
    "collapsed": true
   },
   "outputs": [],
   "source": [
    "# Convert fifth column to float64\n",
    "test_data['Redox potential (mV)'] = test_data[\"Redox potential (mV)\"].apply(pd.to_numeric, errors='coerce')"
   ]
  },
  {
   "cell_type": "code",
   "execution_count": 33,
   "metadata": {
    "collapsed": true
   },
   "outputs": [],
   "source": [
    "# Convert sixth column to float64\n",
    "test_data['Electric conductivity (uS/cm)'] = test_data[\"Electric conductivity (uS/cm)\"].apply(pd.to_numeric, errors='coerce')"
   ]
  },
  {
   "cell_type": "markdown",
   "metadata": {},
   "source": [
    "## Prepare Test Data"
   ]
  },
  {
   "cell_type": "code",
   "execution_count": 35,
   "metadata": {},
   "outputs": [],
   "source": [
    "# Impute data with mean\n",
    "test_data[\"Chlorine dioxide (mg/L)\"].fillna(test_data[\"Chlorine dioxide (mg/L)\"].mean(), inplace=True)\n",
    "test_data[\"PH value\"].fillna(test_data[\"PH value\"].mean(), inplace=True)\n",
    "test_data[\"Redox potential (mV)\"].fillna(test_data[\"Redox potential (mV)\"].mean(), inplace=True)"
   ]
  },
  {
   "cell_type": "code",
   "execution_count": 36,
   "metadata": {
    "collapsed": true
   },
   "outputs": [],
   "source": [
    "# Create input array\n",
    "X1 = np.array(test_data['Chlorine dioxide (mg/L)'])\n",
    "X2 = np.array(test_data['PH value'])\n",
    "X3 = np.array(test_data['Redox potential (mV)'])"
   ]
  },
  {
   "cell_type": "code",
   "execution_count": 37,
   "metadata": {
    "collapsed": true
   },
   "outputs": [],
   "source": [
    "# Normalize data to [0, 1]\n",
    "X1 = (X1 - X1.min())/(X1.max() - X1.min())\n",
    "X2 = (X2 - X2.min())/(X2.max() - X2.min())\n",
    "X3 = (X3 - X3.min())/(X3.max() - X3.min())"
   ]
  },
  {
   "cell_type": "code",
   "execution_count": 38,
   "metadata": {
    "collapsed": true
   },
   "outputs": [],
   "source": [
    "# Create input 2D array\n",
    "X_test = np.array([X1, X2, X3]).T\n",
    "\n",
    "# Create output array\n",
    "Y_test = np.array(test_data['Event (boolean)'])"
   ]
  },
  {
   "cell_type": "markdown",
   "metadata": {},
   "source": [
    "## Estimate efficiency\n",
    "A function is created in order to quickly estimate the model efficiency"
   ]
  },
  {
   "cell_type": "code",
   "execution_count": 48,
   "metadata": {
    "collapsed": true
   },
   "outputs": [],
   "source": [
    "# Import confusion matrix function\n",
    "from sklearn.metrics import confusion_matrix\n",
    "\n",
    "# Function to estimate estimators efficiency\n",
    "def my_efficiency(Y, y):\n",
    "\n",
    "    # Calculate confusion matrix\n",
    "    tn, fp, fn, tp = confusion_matrix(Y, y).ravel()\n",
    "\n",
    "    # Calculate accuracy\n",
    "    acc = (tp + tn) / (tp + fp + tn + fn)\n",
    "\n",
    "    # Calculate sensitivity (True Positive Rate)\n",
    "    tpr = tp / (tp + fn)\n",
    "\n",
    "    # Calculate specificity (True Negative Rate)\n",
    "    tnr = tn / (fp + tn)\n",
    "\n",
    "    # Calculate precision (Positive predictive value)\n",
    "    ppv = tp / (tp + fp)\n",
    "\n",
    "    # Calculate negative predictive value\n",
    "    npv = tn / (fn + tn)\n",
    "    \n",
    "    # Calculate Gecco 2017 result with F1 score\n",
    "    f1 = 2 * (ppv * tpr) / (ppv + tpr)\n",
    "    \n",
    "    # Print values\n",
    "    print(\"Confusion Matrix:\")\n",
    "    print(\"\\t\" + str(tp) + \"\\t\" + str(fp))\n",
    "    print(\"\\t\" + str(fn) + \"\\t\" + str(tn))\n",
    "    print(\"\\n\")\n",
    "    \n",
    "    print(\"Accuracy = \" + str(acc*100) + \"%\")\n",
    "    print(\"F1 score = \" + str(f1))"
   ]
  },
  {
   "cell_type": "markdown",
   "metadata": {},
   "source": [
    "## Classification\n",
    "Classification methods are used in order to classify the events from the series.\n",
    "\n",
    "Several methods will be tested here, based on [scikit-learn notebooks](https://github.com/jakevdp/sklearn_tutorial/blob/master/notebooks/02.2-Basic-Principles.ipynb)."
   ]
  },
  {
   "cell_type": "markdown",
   "metadata": {},
   "source": [
    "### Logistic regression\n",
    "Logistic regression presented the best result on the 2017 GECCO challenge. It was achieved by Fitore Muharremi with a F1 score of 0.441."
   ]
  },
  {
   "cell_type": "code",
   "execution_count": 59,
   "metadata": {},
   "outputs": [
    {
     "name": "stdout",
     "output_type": "stream",
     "text": [
      "Confusion Matrix:\n",
      "\t491\t0\n",
      "\t2277\t241900\n",
      "\n",
      "\n",
      "Accuracy = 99.0693511207%\n",
      "F1 score = 0.301319423136\n"
     ]
    }
   ],
   "source": [
    "# Import Logistic Regression estimator\n",
    "from sklearn import linear_model\n",
    "\n",
    "# Initialize model\n",
    "model = linear_model.LogisticRegression(C=1e5)\n",
    "\n",
    "# fit the model on our data\n",
    "model.fit(X_train, Y_train)\n",
    "\n",
    "# Predict output\n",
    "y = model.predict(X_test)\n",
    "\n",
    "# Estimate efficiency\n",
    "my_efficiency(Y_test, y)"
   ]
  },
  {
   "cell_type": "markdown",
   "metadata": {},
   "source": [
    "### Support Vector Machine\n",
    "Also used (linear kernel) by Fitore Muharremi."
   ]
  },
  {
   "cell_type": "code",
   "execution_count": 67,
   "metadata": {},
   "outputs": [
    {
     "name": "stdout",
     "output_type": "stream",
     "text": [
      "Confusion Matrix:\n",
      "\t361\t0\n",
      "\t2407\t241900\n",
      "\n",
      "\n",
      "Accuracy = 99.0162178953%\n",
      "F1 score = 0.230744646852\n"
     ]
    }
   ],
   "source": [
    "# Import Support vector machine estimator\n",
    "from sklearn import svm\n",
    "\n",
    "# Initialize model\n",
    "model = svm.SVC(kernel='rbf')\n",
    "\n",
    "# fit the model on our data\n",
    "model.fit(X_train, Y_train)\n",
    "\n",
    "# Predict output\n",
    "y = model.predict(X_test)\n",
    "\n",
    "# Estimate efficiency\n",
    "my_efficiency(Y_test, y)"
   ]
  },
  {
   "cell_type": "markdown",
   "metadata": {},
   "source": [
    "### K Nearest neighbors (KNN)\n",
    "K nearest neighbors (kNN) is one of the simplest learning strategies: given a new, unknown observation, look up in your reference database which ones have the closest features and assign the predominant class.\""
   ]
  },
  {
   "cell_type": "code",
   "execution_count": 55,
   "metadata": {},
   "outputs": [
    {
     "name": "stdout",
     "output_type": "stream",
     "text": [
      "Confusion Matrix:\n",
      "\t1130\t4332\n",
      "\t1638\t237568\n",
      "\n",
      "\n",
      "Accuracy = 97.5599588013%\n",
      "F1 score = 0.274605103281\n"
     ]
    }
   ],
   "source": [
    "# Import KNN estimator\n",
    "from sklearn import neighbors\n",
    "\n",
    "# Initialize model\n",
    "model = neighbors.KNeighborsClassifier(n_neighbors=3)\n",
    "\n",
    "# fit the model on our data\n",
    "model.fit(X_train, Y_train)\n",
    "\n",
    "# Predict output\n",
    "y = model.predict(X_test)\n",
    "\n",
    "# Estimate efficiency\n",
    "my_efficiency(Y_test, y)"
   ]
  },
  {
   "cell_type": "markdown",
   "metadata": {
    "collapsed": true
   },
   "source": [
    "### Decision Tree"
   ]
  },
  {
   "cell_type": "code",
   "execution_count": 51,
   "metadata": {},
   "outputs": [
    {
     "name": "stdout",
     "output_type": "stream",
     "text": [
      "Confusion Matrix:\n",
      "\t1199\t4723\n",
      "\t1569\t237177\n",
      "\n",
      "\n",
      "Accuracy = 97.4283518891%\n",
      "F1 score = 0.275949367089\n"
     ]
    }
   ],
   "source": [
    "# Import Decision Tree estimator\n",
    "from sklearn import tree\n",
    "\n",
    "# Initialize model\n",
    "model = tree.DecisionTreeClassifier()\n",
    "\n",
    "# fit the model on our data\n",
    "model.fit(X_train, Y_train)\n",
    "\n",
    "# Predict output\n",
    "y = model.predict(X_test)\n",
    "\n",
    "# Estimate efficiency\n",
    "my_efficiency(Y_test, y)"
   ]
  },
  {
   "cell_type": "markdown",
   "metadata": {
    "collapsed": true
   },
   "source": [
    "### Artificial Neural Networks (multilayer perceptron)"
   ]
  },
  {
   "cell_type": "code",
   "execution_count": 68,
   "metadata": {},
   "outputs": [
    {
     "name": "stdout",
     "output_type": "stream",
     "text": [
      "Confusion Matrix:\n",
      "\t845\t14\n",
      "\t1923\t241886\n",
      "\n",
      "\n",
      "Accuracy = 99.2083149411%\n",
      "F1 score = 0.465949820789\n"
     ]
    }
   ],
   "source": [
    "# Import MLP estimator\n",
    "from sklearn.neural_network import MLPClassifier\n",
    "\n",
    "# Initialize model\n",
    "model = MLPClassifier(activation='tanh', solver='adam', alpha=1e-3, hidden_layer_sizes=(3, 1), random_state=1)\n",
    "\n",
    "# fit the model on our data\n",
    "model.fit(X_train, Y_train)\n",
    "\n",
    "# Predict output\n",
    "y = model.predict(X_test)\n",
    "\n",
    "# Estimate efficiency\n",
    "my_efficiency(Y_test, y)"
   ]
  }
 ],
 "metadata": {
  "kernelspec": {
   "display_name": "Python 3.6",
   "language": "python",
   "name": "python36"
  },
  "language_info": {
   "codemirror_mode": {
    "name": "ipython",
    "version": 3
   },
   "file_extension": ".py",
   "mimetype": "text/x-python",
   "name": "python",
   "nbconvert_exporter": "python",
   "pygments_lexer": "ipython3",
   "version": "3.6.0"
  }
 },
 "nbformat": 4,
 "nbformat_minor": 2
}
