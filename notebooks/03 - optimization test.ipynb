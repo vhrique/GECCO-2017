{
 "cells": [
  {
   "cell_type": "markdown",
   "metadata": {},
   "source": [
    "# Introduction\n",
    "This notebook focuses on optmizing the classifier for the [GECCO 2017 competition](http://www.spotseven.de/gecco/gecco-challenge/gecco-challenge-2017/) ([Rules](https://notebooks.azure.com/n/UxScBeYo9pM/files/rulesGeccoIc2017.pdf))\n",
    "\n",
    "---"
   ]
  },
  {
   "cell_type": "markdown",
   "metadata": {},
   "source": [
    "# Code\n",
    "## Import packages/modules\n",
    "Some packages/modules are necessary for loading and visualising the data.\n",
    "- **pandas:** load CVS file;\n",
    "- **matplotlib.pyplot:** plot data;\n",
    "- **numpy:** array manipulation;\n",
    "- **differential_evolution (scipi):** optimization."
   ]
  },
  {
   "cell_type": "code",
   "execution_count": 1,
   "metadata": {
    "collapsed": true
   },
   "outputs": [],
   "source": [
    "import pandas as pd\n",
    "import matplotlib.pyplot as plt\n",
    "import numpy as np\n",
    "from sklearn.neural_network import MLPClassifier\n",
    "from sklearn.metrics import confusion_matrix\n",
    "from scipy.optimize import differential_evolution"
   ]
  },
  {
   "cell_type": "markdown",
   "metadata": {},
   "source": [
    "## Load Training Data\n",
    "Data is loaded using the *read_csv* function from **pandas** package. After that, we convert incorrect data types.\n",
    "\n",
    "**Obs:** This step is better covered at **[01 - load and view](https://notebooks.azure.com/n/vGEm8hmoKOg/notebooks/01%20-%20load%20and%20view.ipynb)**."
   ]
  },
  {
   "cell_type": "code",
   "execution_count": 2,
   "metadata": {
    "collapsed": true
   },
   "outputs": [],
   "source": [
    "# Load data\n",
    "train_data = pd.read_csv('../data/waterDataTraining.csv', delimiter=',')"
   ]
  },
  {
   "cell_type": "code",
   "execution_count": 3,
   "metadata": {
    "collapsed": true
   },
   "outputs": [],
   "source": [
    "# Convert first column to Date-Time\n",
    "train_data['Time'] = train_data[\"Time\"].apply(pd.to_datetime)"
   ]
  },
  {
   "cell_type": "code",
   "execution_count": 4,
   "metadata": {
    "collapsed": true
   },
   "outputs": [],
   "source": [
    "# Convert last column to Boolean\n",
    "train_data[\"Event (boolean)\"] = train_data[\"Event (boolean)\"] == \" TRUE\""
   ]
  },
  {
   "cell_type": "markdown",
   "metadata": {},
   "source": [
    "## Prepare Training Data\n",
    "Convert data to arrays"
   ]
  },
  {
   "cell_type": "code",
   "execution_count": 5,
   "metadata": {
    "collapsed": true
   },
   "outputs": [],
   "source": [
    "# Impute data with mean\n",
    "train_data[\"Chlorine dioxide (mg/L)\"].fillna(train_data[\"Chlorine dioxide (mg/L)\"].mean(), inplace=True)\n",
    "train_data[\"PH value\"].fillna(train_data[\"PH value\"].mean(), inplace=True)\n",
    "train_data[\"Redox potential (mV)\"].fillna(train_data[\"Redox potential (mV)\"].mean(), inplace=True)"
   ]
  },
  {
   "cell_type": "code",
   "execution_count": 6,
   "metadata": {
    "collapsed": true
   },
   "outputs": [],
   "source": [
    "# Create input array\n",
    "X1 = np.array(train_data['Chlorine dioxide (mg/L)'])\n",
    "X2 = np.array(train_data['PH value'])\n",
    "X3 = np.array(train_data['Redox potential (mV)'])"
   ]
  },
  {
   "cell_type": "code",
   "execution_count": 7,
   "metadata": {
    "collapsed": true
   },
   "outputs": [],
   "source": [
    "# Normalize data to [0, 1]\n",
    "X1 = (X1 - X1.min())/(X1.max() - X1.min())\n",
    "X2 = (X2 - X2.min())/(X2.max() - X2.min())\n",
    "X3 = (X3 - X3.min())/(X3.max() - X3.min())"
   ]
  },
  {
   "cell_type": "code",
   "execution_count": 8,
   "metadata": {
    "collapsed": true
   },
   "outputs": [],
   "source": [
    "# Create input 2D array\n",
    "X_train = np.array([X1, X2, X3]).T\n",
    "\n",
    "# Create output array\n",
    "Y_train = np.array(train_data['Event (boolean)'])"
   ]
  },
  {
   "cell_type": "markdown",
   "metadata": {},
   "source": [
    "## Load Test Data"
   ]
  },
  {
   "cell_type": "code",
   "execution_count": 9,
   "metadata": {},
   "outputs": [
    {
     "name": "stderr",
     "output_type": "stream",
     "text": [
      "/home/nbuser/anaconda3_431/lib/python3.6/site-packages/IPython/core/interactiveshell.py:2698: DtypeWarning: Columns (3,4,5,12,13,14,15) have mixed types. Specify dtype option on import or set low_memory=False.\n",
      "  interactivity=interactivity, compiler=compiler, result=result)\n"
     ]
    }
   ],
   "source": [
    "# Load data\n",
    "test_data = pd.read_csv('../data/waterDataTesting.csv', delimiter=',')"
   ]
  },
  {
   "cell_type": "code",
   "execution_count": 10,
   "metadata": {
    "collapsed": true
   },
   "outputs": [],
   "source": [
    "# Convert first column to Date-Time\n",
    "test_data['Time'] = test_data[\"Time\"].apply(pd.to_datetime)"
   ]
  },
  {
   "cell_type": "code",
   "execution_count": 11,
   "metadata": {
    "collapsed": true
   },
   "outputs": [],
   "source": [
    "# Convert fourth column to float64\n",
    "test_data['PH value'] = test_data[\"PH value\"].apply(pd.to_numeric, errors='coerce')"
   ]
  },
  {
   "cell_type": "code",
   "execution_count": 12,
   "metadata": {
    "collapsed": true
   },
   "outputs": [],
   "source": [
    "# Convert fifth column to float64\n",
    "test_data['Redox potential (mV)'] = test_data[\"Redox potential (mV)\"].apply(pd.to_numeric, errors='coerce')"
   ]
  },
  {
   "cell_type": "code",
   "execution_count": 13,
   "metadata": {
    "collapsed": true
   },
   "outputs": [],
   "source": [
    "# Convert sixth column to float64\n",
    "test_data['Electric conductivity (uS/cm)'] = test_data[\"Electric conductivity (uS/cm)\"].apply(pd.to_numeric, errors='coerce')"
   ]
  },
  {
   "cell_type": "markdown",
   "metadata": {},
   "source": [
    "## Prepare Test Data"
   ]
  },
  {
   "cell_type": "code",
   "execution_count": 14,
   "metadata": {
    "collapsed": true
   },
   "outputs": [],
   "source": [
    "# Impute data with mean\n",
    "test_data[\"Chlorine dioxide (mg/L)\"].fillna(test_data[\"Chlorine dioxide (mg/L)\"].mean(), inplace=True)\n",
    "test_data[\"PH value\"].fillna(test_data[\"PH value\"].mean(), inplace=True)\n",
    "test_data[\"Redox potential (mV)\"].fillna(test_data[\"Redox potential (mV)\"].mean(), inplace=True)"
   ]
  },
  {
   "cell_type": "code",
   "execution_count": 15,
   "metadata": {
    "collapsed": true
   },
   "outputs": [],
   "source": [
    "# Create input array\n",
    "X1 = np.array(test_data['Chlorine dioxide (mg/L)'])\n",
    "X2 = np.array(test_data['PH value'])\n",
    "X3 = np.array(test_data['Redox potential (mV)'])"
   ]
  },
  {
   "cell_type": "code",
   "execution_count": 16,
   "metadata": {
    "collapsed": true
   },
   "outputs": [],
   "source": [
    "# Normalize data to [0, 1]\n",
    "X1 = (X1 - X1.min())/(X1.max() - X1.min())\n",
    "X2 = (X2 - X2.min())/(X2.max() - X2.min())\n",
    "X3 = (X3 - X3.min())/(X3.max() - X3.min())"
   ]
  },
  {
   "cell_type": "code",
   "execution_count": 17,
   "metadata": {
    "collapsed": true
   },
   "outputs": [],
   "source": [
    "# Create input 2D array\n",
    "X_test = np.array([X1, X2, X3]).T\n",
    "\n",
    "# Create output array\n",
    "Y_test = np.array(test_data['Event (boolean)'])"
   ]
  },
  {
   "cell_type": "markdown",
   "metadata": {},
   "source": [
    "## Artificial neural networks model evaluation\n",
    "ANN is used in order to classify the events from the series. The F1 score is calculated from the resulting confusion matrix."
   ]
  },
  {
   "cell_type": "code",
   "execution_count": 18,
   "metadata": {
    "collapsed": true
   },
   "outputs": [],
   "source": [
    "def my_evaluation(x):\n",
    "\n",
    "    # Initialize model\n",
    "    model = MLPClassifier(activation='tanh', solver='adam', alpha=x[0], hidden_layer_sizes=(int(x[1]), int(x[2])), random_state=1)\n",
    "\n",
    "    # fit the model on our data\n",
    "    model.fit(X_train, Y_train)\n",
    "\n",
    "    # Predict output\n",
    "    y = model.predict(X_test)\n",
    "    \n",
    "    # Calculate confusion matrix\n",
    "    tn, fp, fn, tp = confusion_matrix(Y_test, y).ravel()\n",
    "\n",
    "    # Calculate sensitivity (True Positive Rate)\n",
    "    tpr = tp / (tp + fn)\n",
    "\n",
    "    # Calculate precision (Positive predictive value)\n",
    "    ppv = tp / (tp + fp)\n",
    "    \n",
    "    # Calculate Gecco 2017 result with F1 score\n",
    "    f1 = 2 * (ppv * tpr) / (ppv + tpr)\n",
    "\n",
    "    # Estimate efficiency\n",
    "    return (1 - f1)"
   ]
  },
  {
   "cell_type": "markdown",
   "metadata": {},
   "source": [
    "## Differential Evolution"
   ]
  },
  {
   "cell_type": "code",
   "execution_count": 19,
   "metadata": {},
   "outputs": [
    {
     "data": {
      "text/plain": [
       "(array([  4.45229911e-04,   8.01879614e+01,   9.54792776e+00]),\n",
       " 0.52404105888708807)"
      ]
     },
     "execution_count": 19,
     "metadata": {},
     "output_type": "execute_result"
    }
   ],
   "source": [
    "maxiter = 10\n",
    "popsize = 10\n",
    "bounds = [(0, 1e-1), (1, 100), (1, 10)]\n",
    "\n",
    "result = differential_evolution(my_evaluation, bounds, maxiter=maxiter, popsize=popsize)\n",
    "result.x, result.fun"
   ]
  },
  {
   "cell_type": "code",
   "execution_count": null,
   "metadata": {
    "collapsed": true
   },
   "outputs": [],
   "source": []
  }
 ],
 "metadata": {
  "kernelspec": {
   "display_name": "Python 3.6",
   "language": "python",
   "name": "python36"
  },
  "language_info": {
   "codemirror_mode": {
    "name": "ipython",
    "version": 3
   },
   "file_extension": ".py",
   "mimetype": "text/x-python",
   "name": "python",
   "nbconvert_exporter": "python",
   "pygments_lexer": "ipython3",
   "version": "3.6.0"
  }
 },
 "nbformat": 4,
 "nbformat_minor": 2
}
